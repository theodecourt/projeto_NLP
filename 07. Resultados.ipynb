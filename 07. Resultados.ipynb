{
 "cells": [
  {
   "cell_type": "markdown",
   "metadata": {},
   "source": [
    "## Resultados do Teste com Usuários\n",
    "\n",
    "Realizamos o piloto com 15 participantes, avaliando as duas funcionalidades:\n",
    "\n",
    "| Funcionalidade                   | Participantes | Satisfeitos | Insatisfeitos | Taxa de Satisfação |\n",
    "|----------------------------------|--------------:|------------:|--------------:|-------------------:|\n",
    "| Descoberta de Produtos Similares |            15 |          14 |             1 | 93,3 %             |\n",
    "| Busca por Relevância Semântica   |            15 |          14 |             1 | 93,3 %             |\n",
    "\n",
    "- **Interpretação**  \n",
    "  - Ambas as funcionalidades superaram a meta de **80 %** de satisfação.\n",
    "  - Taxa de satisfação de **93,3 %**, indicando que o sistema atende bem ao pain point proposto."
   ]
  }
 ],
 "metadata": {
  "language_info": {
   "name": "python"
  }
 },
 "nbformat": 4,
 "nbformat_minor": 2
}
