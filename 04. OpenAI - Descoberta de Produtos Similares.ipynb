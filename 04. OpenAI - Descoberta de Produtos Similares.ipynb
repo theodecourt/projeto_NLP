{
 "cells": [
  {
   "cell_type": "markdown",
   "metadata": {},
   "source": [
    "# OpenAI - A partir de 1 product_id o programa gera os 3 produtos mais semelhantes da Amazon"
   ]
  },
  {
   "cell_type": "code",
   "execution_count": 1,
   "metadata": {},
   "outputs": [],
   "source": [
    "import pandas as pd\n",
    "import numpy as np\n",
    "import ast\n",
    "from sklearn.metrics.pairwise import cosine_distances\n",
    "\n",
    "# 1) Carrega o DataFrame com embeddings gerados\n",
    "df = pd.read_csv('OpenAI_embeddings.csv')\n",
    "\n",
    "# 2) Colunas de embedding a serem combinadas\n",
    "emb_cols = [\n",
    "    'embedding_product_name',\n",
    "    'embedding_category',\n",
    "    'embedding_about_product',\n",
    "    'embedding_review_title',\n",
    "    'embedding_review_content'\n",
    "]\n",
    "\n",
    "# 3) Converte cada embedding de string para np.array e concatena\n",
    "def combine_embeddings(row):\n",
    "    parts = []\n",
    "    for col in emb_cols:\n",
    "        emb_str = row[col]\n",
    "        if isinstance(emb_str, str):\n",
    "            emb = np.array(ast.literal_eval(emb_str), dtype=float)\n",
    "            parts.append(emb)\n",
    "    return np.concatenate(parts)\n",
    "\n",
    "# Aplica a combinação e empilha numa matriz\n",
    "df['emb_combined'] = df.apply(combine_embeddings, axis=1)\n",
    "emb_matrix = np.vstack(df['emb_combined'].values)\n",
    "\n",
    "# 4) Cria mapeamento product_id → índice no DataFrame\n",
    "id_to_idx = {pid: idx for idx, pid in enumerate(df['product_id'].values)}\n",
    "\n",
    "# 5) Função para buscar os top_k produtos mais similares\n",
    "def find_similar_products(query_id, top_k=3):\n",
    "    if query_id not in id_to_idx:\n",
    "        raise KeyError(f\"product_id {query_id} não encontrado.\")\n",
    "    idx = id_to_idx[query_id]\n",
    "    q_emb = emb_matrix[idx].reshape(1, -1)\n",
    "    dists = cosine_distances(q_emb, emb_matrix)[0]\n",
    "    dists[idx] = np.inf  # ignora o próprio item\n",
    "    nearest = np.argsort(dists)[:top_k]\n",
    "    return df.iloc[nearest][['product_id', 'product_name']].reset_index(drop=True)\n"
   ]
  },
  {
   "cell_type": "code",
   "execution_count": 7,
   "metadata": {},
   "outputs": [
    {
     "name": "stdout",
     "output_type": "stream",
     "text": [
      "   product_id                                                                                                                                                        product_name\n",
      "0  B07JW9H4J1  Wayona Nylon Braided USB to Lightning Fast Charging and Data Sync Cable Compatible for iPhone 13, 12,11, X, 8, 7, 6, 5, iPad Air, Pro, Mini (3 FT Pack of 1, Grey)\n",
      "1  B07JW9H4J1  Wayona Nylon Braided USB to Lightning Fast Charging and Data Sync Cable Compatible for iPhone 13, 12,11, X, 8, 7, 6, 5, iPad Air, Pro, Mini (3 FT Pack of 1, Grey)\n",
      "2  B07JW1Y6XV                                            Wayona Nylon Braided 3A Lightning to USB A Syncing and Fast Charging Data Cable for iPhone, Ipad (3 FT Pack of 1, Black)\n"
     ]
    }
   ],
   "source": [
    "# 6) Uso\n",
    "consulta = \"B07JW9H4J1\"  # substitua pelo product_id desejado\n",
    "top3 = find_similar_products(consulta, top_k=3)\n",
    "pd.set_option('display.max_colwidth', None)\n",
    "pd.set_option('display.width', 200)\n",
    "print(top3)"
   ]
  },
  {
   "cell_type": "code",
   "execution_count": null,
   "metadata": {},
   "outputs": [],
   "source": []
  }
 ],
 "metadata": {
  "kernelspec": {
   "display_name": "Python 3",
   "language": "python",
   "name": "python3"
  },
  "language_info": {
   "codemirror_mode": {
    "name": "ipython",
    "version": 3
   },
   "file_extension": ".py",
   "mimetype": "text/x-python",
   "name": "python",
   "nbconvert_exporter": "python",
   "pygments_lexer": "ipython3",
   "version": "3.13.0"
  }
 },
 "nbformat": 4,
 "nbformat_minor": 2
}
