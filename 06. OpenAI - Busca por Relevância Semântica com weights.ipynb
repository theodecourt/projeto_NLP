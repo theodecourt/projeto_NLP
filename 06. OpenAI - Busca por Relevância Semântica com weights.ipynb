{
 "cells": [
  {
   "cell_type": "markdown",
   "metadata": {},
   "source": [
    "# OpenAI - A partir de um input de um usuário ele encontra o produto mais relevante"
   ]
  },
  {
   "cell_type": "code",
   "execution_count": 10,
   "metadata": {},
   "outputs": [
    {
     "data": {
      "application/vnd.jupyter.widget-view+json": {
       "model_id": "cf66a3e8d0a3466d8b1ef2744ba2da6d",
       "version_major": 2,
       "version_minor": 0
      },
      "text/plain": [
       "Calculando embeddings ponderados:   0%|          | 0/1465 [00:00<?, ?it/s]"
      ]
     },
     "metadata": {},
     "output_type": "display_data"
    }
   ],
   "source": [
    "import os\n",
    "from dotenv import load_dotenv\n",
    "import openai\n",
    "import pandas as pd\n",
    "import numpy as np\n",
    "import ast\n",
    "from sklearn.metrics.pairwise import cosine_distances\n",
    "from tqdm.auto import tqdm\n",
    "\n",
    "\n",
    "# 1) API key\n",
    "load_dotenv()\n",
    "openai.api_key = os.getenv(\"OPENAI_API_KEY\")\n",
    "if not openai.api_key:\n",
    "    raise ValueError(\"OPENAI_API_KEY não encontrada no .env\")\n",
    "\n",
    "# 2) Leitura do CSV com embeddings\n",
    "df = pd.read_csv('OpenAI_embeddings.csv')\n",
    "\n",
    "# 3) Colunas de embedding, já em ordem de maior para menor relevância\n",
    "emb_cols = [\n",
    "    'embedding_product_name',\n",
    "    'embedding_category',\n",
    "    'embedding_about_product',\n",
    "    'embedding_review_title',\n",
    "    'embedding_review_content'\n",
    "]\n",
    "\n",
    "# 4) Defina aqui seus pesos (devem estar na mesma ordem de emb_cols e somar 1.0)\n",
    "weights = [0.30, 0.25, 0.20, 0.15, 0.10]\n",
    "\n",
    "# 5) Converter string → np.array e computar média ponderada\n",
    "def weighted_embedding(row):\n",
    "    vecs = []\n",
    "    for col in emb_cols:\n",
    "        s = row[col]\n",
    "        if isinstance(s, str) and s.strip():\n",
    "            vecs.append(np.array(ast.literal_eval(s), dtype=float))\n",
    "        else:\n",
    "            # vetor zero caso falte embedding\n",
    "            vecs.append(np.zeros_like(vecs[0]) if vecs else None)\n",
    "    # multiplica cada vetor pelo peso correspondente e soma\n",
    "    weighted = np.zeros_like(vecs[0])\n",
    "    for w, v in zip(weights, vecs):\n",
    "        weighted += w * v\n",
    "    return weighted  # já é 1 536-dim\n",
    "\n",
    "tqdm.pandas(desc=\"Calculando embeddings ponderados\")\n",
    "df['emb_weighted'] = df.progress_apply(weighted_embedding, axis=1)\n",
    "emb_matrix = np.vstack(df['emb_weighted'].values)\n",
    "\n",
    "# 6) Função para gerar embedding da query (1 536-dim)\n",
    "def get_query_embedding(text: str, model: str = \"text-embedding-3-small\"):\n",
    "    if not text or not text.strip():\n",
    "        raise ValueError(\"Texto de busca vazio\")\n",
    "    resp = openai.embeddings.create(input=text, model=model)\n",
    "    return np.array(resp.data[0].embedding, dtype=float)\n",
    "\n",
    "# 7) Busca semântica ponderada\n",
    "def semantic_search(query_text: str, top_k: int = 3):\n",
    "    q_emb = get_query_embedding(query_text).reshape(1, -1)\n",
    "    dists = cosine_distances(q_emb, emb_matrix)[0]\n",
    "    nearest = np.argsort(dists)[:top_k]\n",
    "    return df.iloc[nearest][['product_id', 'product_name']].reset_index(drop=True)\n",
    "\n"
   ]
  },
  {
   "cell_type": "code",
   "execution_count": 13,
   "metadata": {},
   "outputs": [
    {
     "name": "stdout",
     "output_type": "stream",
     "text": [
      "   product_id                                                                                                                                                      product_name\n",
      "0  B00Y4ORQ46                                                                                                              Logitech H111 Wired On Ear Headphones With Mic Black\n",
      "1  B009LJ2BXA  Hp Wired On Ear Headphones With Mic With 3.5 Mm Drivers, In-Built Noise Cancelling, Foldable And Adjustable For Laptop/Pc/Office/Home/ 1 Year Warranty (B4B09Pa)\n",
      "2  B07L8KNP5F                                                              ZEBRONICS Zeb-Thunder Bluetooth Wireless Over Ear Headphone FM, mSD, 9 hrs Playback with Mic (Black)\n"
     ]
    }
   ],
   "source": [
    "# 8) Uso\n",
    "query = \"eu quero um headphone para usar no escritorio que evite o barulho do exterior\"\n",
    "top3 = semantic_search(query, top_k=3)\n",
    "pd.set_option('display.max_colwidth', None)\n",
    "pd.set_option('display.width', 200)\n",
    "print(top3)"
   ]
  },
  {
   "cell_type": "code",
   "execution_count": null,
   "metadata": {},
   "outputs": [],
   "source": []
  }
 ],
 "metadata": {
  "kernelspec": {
   "display_name": "Python 3",
   "language": "python",
   "name": "python3"
  },
  "language_info": {
   "codemirror_mode": {
    "name": "ipython",
    "version": 3
   },
   "file_extension": ".py",
   "mimetype": "text/x-python",
   "name": "python",
   "nbconvert_exporter": "python",
   "pygments_lexer": "ipython3",
   "version": "3.13.0"
  }
 },
 "nbformat": 4,
 "nbformat_minor": 2
}
