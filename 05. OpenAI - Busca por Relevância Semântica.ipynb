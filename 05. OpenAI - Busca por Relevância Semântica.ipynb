{
 "cells": [
  {
   "cell_type": "markdown",
   "metadata": {},
   "source": [
    "# OpenAI - A partir de um input de um usuário ele encontra o produto mais relevante"
   ]
  },
  {
   "cell_type": "code",
   "execution_count": 3,
   "metadata": {},
   "outputs": [
    {
     "data": {
      "application/vnd.jupyter.widget-view+json": {
       "model_id": "5d774b12fdae437e8bcc86df3703516c",
       "version_major": 2,
       "version_minor": 0
      },
      "text/plain": [
       "Averaging embeddings:   0%|          | 0/1465 [00:00<?, ?it/s]"
      ]
     },
     "metadata": {},
     "output_type": "display_data"
    }
   ],
   "source": [
    "import os\n",
    "from dotenv import load_dotenv\n",
    "import openai\n",
    "import pandas as pd\n",
    "import numpy as np\n",
    "import ast\n",
    "from sklearn.metrics.pairwise import cosine_distances\n",
    "from tqdm.auto import tqdm\n",
    "\n",
    "# 1) API key\n",
    "load_dotenv()\n",
    "openai.api_key = os.getenv(\"OPENAI_API_KEY\")\n",
    "if not openai.api_key:\n",
    "    raise ValueError(\"OPENAI_API_KEY não encontrada no .env\")\n",
    "\n",
    "# 2) Leitura do CSV\n",
    "df = pd.read_csv('OpenAI_embeddings.csv')\n",
    "\n",
    "# 3) Colunas de embedding\n",
    "emb_cols = [\n",
    "    'embedding_product_name',\n",
    "    'embedding_category',\n",
    "    'embedding_about_product',\n",
    "    'embedding_review_title',\n",
    "    'embedding_review_content'\n",
    "]\n",
    "\n",
    "# 4) Converter string → np.array e computar a média\n",
    "def average_embeddings(row):\n",
    "    embs = []\n",
    "    for col in emb_cols:\n",
    "        s = row[col]\n",
    "        if isinstance(s, str) and s.strip():\n",
    "            embs.append(np.array(ast.literal_eval(s), dtype=float))\n",
    "    # retorna vetor único de dimensão 1536\n",
    "    return np.mean(embs, axis=0)\n",
    "\n",
    "tqdm.pandas(desc=\"Averaging embeddings\")\n",
    "df['emb_avg'] = df.progress_apply(average_embeddings, axis=1)\n",
    "emb_matrix = np.vstack(df['emb_avg'].values)  # shape (n, 1536)\n",
    "\n",
    "# 5) Função para gerar embedding da query (também 1536)\n",
    "def get_query_embedding(text: str, model: str = \"text-embedding-3-small\"):\n",
    "    if not text or not text.strip():\n",
    "        raise ValueError(\"Texto de busca vazio\")\n",
    "    resp = openai.embeddings.create(input=text, model=model)\n",
    "    return np.array(resp.data[0].embedding, dtype=float)\n",
    "\n",
    "# 6) Busca por relevância semântica\n",
    "def semantic_search(query_text: str, top_k: int = 3):\n",
    "    q_emb = get_query_embedding(query_text).reshape(1, -1)  # (1,1536)\n",
    "    dists = cosine_distances(q_emb, emb_matrix)[0]\n",
    "    nearest = np.argsort(dists)[:top_k]\n",
    "    return df.iloc[nearest][['product_id', 'product_name']].reset_index(drop=True)"
   ]
  },
  {
   "cell_type": "code",
   "execution_count": 9,
   "metadata": {},
   "outputs": [
    {
     "name": "stdout",
     "output_type": "stream",
     "text": [
      "   product_id  \\\n",
      "0  B00NFD0ETQ   \n",
      "1  B08D64C9FN   \n",
      "2  B073BRXPZX   \n",
      "\n",
      "                                                                                                                                                                                            product_name  \n",
      "0                                                                      Logitech G402 Hyperion Fury USB Wired Gaming Mouse, 4,000 DPI, Lightweight, 8 Programmable Buttons, Compatible for PC/Mac - Black  \n",
      "1                                                                                                                  Ant Esports GM320 RGB Optical Wired Gaming Mouse | 8 Programmable Buttons | 12800 DPI  \n",
      "2  Lenovo 300 Wired Plug & Play USB Mouse, High Resolution 1600 DPI Optical Sensor, 3-Button Design with clickable Scroll Wheel, Ambidextrous, Ergonomic Mouse for Comfortable All-Day Grip (GX30M39704)  \n"
     ]
    }
   ],
   "source": [
    "# 7) Uso\n",
    "query = \"mouse for playing videogames for long periods of time\"\n",
    "top3 = semantic_search(query, top_k=3)\n",
    "pd.set_option('display.max_colwidth', None)\n",
    "pd.set_option('display.width', 200)\n",
    "print(top3)"
   ]
  },
  {
   "cell_type": "code",
   "execution_count": null,
   "metadata": {},
   "outputs": [],
   "source": []
  }
 ],
 "metadata": {
  "kernelspec": {
   "display_name": "Python 3",
   "language": "python",
   "name": "python3"
  },
  "language_info": {
   "codemirror_mode": {
    "name": "ipython",
    "version": 3
   },
   "file_extension": ".py",
   "mimetype": "text/x-python",
   "name": "python",
   "nbconvert_exporter": "python",
   "pygments_lexer": "ipython3",
   "version": "3.13.0"
  }
 },
 "nbformat": 4,
 "nbformat_minor": 2
}
